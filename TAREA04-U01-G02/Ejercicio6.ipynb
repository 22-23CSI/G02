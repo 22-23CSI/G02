{
  "nbformat": 4,
  "nbformat_minor": 0,
  "metadata": {
    "colab": {
      "provenance": []
    },
    "kernelspec": {
      "name": "python3",
      "display_name": "Python 3"
    },
    "language_info": {
      "name": "python"
    }
  },
  "cells": [
    {
      "cell_type": "markdown",
      "source": [
        "6. Algoritmo que realice el cifrado de una cadena de caracteres utilizando la siguiente tabla de cifrado:\n",
        "![LETRAS.png](data:image/png;base64,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)\n",
        "\n",
        "a cadena de caracteres se ingresa al iniciar el programa. Si alguna letra ingresada en el texto no existe en la matriz, coloque \"00\". Imprima la matriz de cifrado, el mensaje original y el mensaje cifrado."
      ],
      "metadata": {
        "id": "J0yqm-FFlkDu"
      }
    },
    {
      "cell_type": "code",
      "execution_count": null,
      "metadata": {
        "id": "MqqHtPXOEvN5"
      },
      "outputs": [],
      "source": [
        "M = [[(\"a\",\"AA\"), (\"b\",\"AB\"),( \"c\",\"AC\"),(\"d\",\"AD\"),(\"e\",\"AE\")],\n",
        "      [(\"f\",\"BA\"),(\"g\",\"BB\"),(\"h\",\"BC\"),(\"i\",\"BD\") ,(\"j\",\"BE\")], \n",
        "      [(\"k\",\"CA\"),(\"l\",\"CB\"),(\"m\",\"CC\"),(\"n\",\"CD\"),(\"o\",\"CE\")],\n",
        "      [(\"p\",\"DA\"),(\"r\",\"DB\"),(\"s\",\"DC\"),(\"t\",\"DD\"),(\"u\",\"DE\")],\n",
        "      [(\"v\",\"EA\"),(\"w\",\"EB\"),(\"x\",\"EC\"),(\"y\",\"ED\"),(\"z\",\"EE\")]]"
      ]
    },
    {
      "cell_type": "code",
      "source": [
        "def cifrar(cadena):\n",
        "  a = M\n",
        "  codigo=\"\"\n",
        "  LetraDesconocida=\"00\"\n",
        "\n",
        "  for caracter in cadena:\n",
        "    condicion = False\n",
        "    for i in range(len(a[0])):\n",
        "      for j in range(len(a)):\n",
        "        \n",
        "          if i%2==0:\n",
        "            valor=(a[j][i][1])\n",
        "            letra= (a[j][i][0])\n",
        "          else:\n",
        "              valor=(a[~j][i][1])\n",
        "              letra = (a[~j][i][0])\n",
        "          if caracter == letra:\n",
        "            codigo = codigo+valor\n",
        "            condicion = True\n",
        "    if condicion == False:\n",
        "        codigo = codigo+LetraDesconocida\n",
        "  print(\"Mensaje original: \" + cadena + \"\")\n",
        "  print(\"mensaje cifrado: \"+codigo)"
      ],
      "metadata": {
        "id": "hXTpzEypMJiP"
      },
      "execution_count": null,
      "outputs": []
    },
    {
      "cell_type": "code",
      "source": [
        "print(\"Ingrese un mensaje:\")\n",
        "cadena = input()\n",
        "cifrar(cadena.lower())"
      ],
      "metadata": {
        "colab": {
          "base_uri": "https://localhost:8080/"
        },
        "id": "MYX_GcrlkrN-",
        "outputId": "667b8e97-374d-4d1b-e84c-f3c4973cfc78"
      },
      "execution_count": null,
      "outputs": [
        {
          "output_type": "stream",
          "name": "stdout",
          "text": [
            "Ingrese un mensaje:\n",
            "hola mundo\n",
            "Mensaje original: hola mundo\n",
            "mensaje cifrado: BCCECBAA00CCDECDADCE\n"
          ]
        }
      ]
    },
    {
      "cell_type": "code",
      "source": [
        "def descifrado(cadena):\n",
        "  cont=0\n",
        "  a= M\n",
        "  x=0\n",
        "  y=2\n",
        "  codigo=\"\"\n",
        "  LetraDesconocida=\" \"\n",
        "  while cont <= len(cadena)/2:\n",
        "    caracter = cadena[x:y]\n",
        "    x+=2\n",
        "    y+=2\n",
        "    cont+=1\n",
        "    condicion = False\n",
        "    for i in range(len(a[0])):\n",
        "      for j in range(len(a)):\n",
        "        if i%2==0:\n",
        "          valor=(a[j][i][1])\n",
        "          letra= (a[j][i][0])\n",
        "        else:\n",
        "          valor=(a[~j][i][1])\n",
        "          letra = (a[~j][i][0])\n",
        "      \n",
        "        if caracter == valor:\n",
        "          codigo = codigo+letra\n",
        "          condicion = True\n",
        "    if condicion == False:\n",
        "          codigo = codigo+LetraDesconocida\n",
        "  print(\"Descifrado: \"+codigo)"
      ],
      "metadata": {
        "id": "3uVJpsmc2M6-"
      },
      "execution_count": null,
      "outputs": []
    },
    {
      "cell_type": "code",
      "source": [
        "print(\"Ingrese un mensaje:\")\n",
        "c = input()\n",
        "descifrado(c)"
      ],
      "metadata": {
        "colab": {
          "base_uri": "https://localhost:8080/"
        },
        "id": "BdxdK1J0Ab_Y",
        "outputId": "81411b32-0c41-4cd2-883d-f20194c8bf50"
      },
      "execution_count": null,
      "outputs": [
        {
          "output_type": "stream",
          "name": "stdout",
          "text": [
            "Ingrese un mensaje:\n",
            "BCCECBAA00CCDECDADCE\n",
            "Descifrado: hola mundo \n"
          ]
        }
      ]
    }
  ]
}