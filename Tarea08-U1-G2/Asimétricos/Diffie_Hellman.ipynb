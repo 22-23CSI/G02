{
  "nbformat": 4,
  "nbformat_minor": 0,
  "metadata": {
    "colab": {
      "provenance": []
    },
    "kernelspec": {
      "name": "python3",
      "display_name": "Python 3"
    },
    "language_info": {
      "name": "python"
    }
  },
  "cells": [
    {
      "cell_type": "code",
      "source": [
        "\n",
        "import time\n",
        "inicio = time.time()\n",
        "with open(\"palabras1000.txt\",\"r\")as f:\n",
        "    content = f.read()\n",
        "    \n",
        "print(content)\n",
        "fin = time.time()\n",
        "print(fin-inicio)"
      ],
      "metadata": {
        "colab": {
          "base_uri": "https://localhost:8080/"
        },
        "id": "uhFmidG07Rxq",
        "outputId": "4c031c7b-e5b5-4ddc-9d89-71056aebfd3d"
      },
      "execution_count": 6,
      "outputs": [
        {
          "output_type": "stream",
          "name": "stdout",
          "text": [
            "LAS COMPETENCIAS COMUNICATIVAS EN LA SOCIEDAD\n",
            " La sociedad como cultura, tiene su origen en la creación y desarrollo del lenguaje, en sus inicios, el ser humano era una especie más que poblaba el planeta. Al comenzar a expresar a sus semejantes sus ideas, se logran varios cambios que se transforman en cultura.\n",
            " El lenguaje da fundamentos para ponernos de acuerdo fortaleciendo estrategias de vida como la recolección y la caza. Al aparecer el lenguaje, trae consigo la idea de establecer tiempos como el pasado, presente y futuro. Esta idea se centra en la necesidad de relacionar lo existente como un presente y al no estar, viene la idea de traerlo al presente, dicho de otra forma, se desarrolla la posibilidad de pensar en lo que ahora no esta presente pero estará.\n",
            " El lenguaje trae en forma inherente al conocimiento que hoy en día se concentra en variadas disciplinas las que a su ves se clasifican y codifican por áreas de competencias, pero no se trata de de la competencia en el sentido de rivalidad, sino, que como un conjunto de saberes, habilidades y actitudes que se aplicaran por el profesional o encargado del área para resolver problemas.\n",
            " De lo antes mencionado, se destacan las competencias, cuyo concepto nos invita a centrarnos en el hablante como un componente que logra tanto producir como interpretar en forma clara y precisa los enunciados adecuados a la situación en que participa a lo largo de su vid, es decir proyectarse como capital huno avanzado sin dejar atrás el camino del perfeccionamiento continuo.\n",
            " En la formación por competencias se deben tener en cuenta tres aspectos fundamentales; el saber, el  saber hacer y el querer hacer. El primero tiene relación con datos, conceptos y procesos vale decir, elementos intangibles, el segundo dice relación al dominio practico de herramientas y equipos que permiten el desarrollo del trabajo cualquiera que este sea, el tercero compete a las actitudes que debe poseer y aplicar el profesional idóneo para la resolución de problemas.\n",
            " Reflexionado acerca de la comunicación, esta se define como el proceso mediante el cual los humanos, gracias al lenguaje, comparten ideas, pensamientos y símbolos con su especie, sin ella, seria imposible la actividad humana. De este modo, la comunicación se hace fundamental en todos sus niveles, es así como surgen distintos tipos de competencias.\n",
            " Competencias comunicativas; se describen como las formas mediante las cuales las personas pueden establecer interrelaciones con otras y con el medio, tomando como base el autoconocimiento. Estas competencias se pueden obtener gracias a la incursión de las personas en la cultura a la que pertenecen, vale decir incursionar en el ambiente familiar, educacional, institucional y natural.\n",
            " Competencias lingüísticas; esta se relaciona con el desarrollo del lenguaje pero no solo se refiere al lenguaje por lo dicho, sino que también por lo pensado, ósea si una persona que hable otro idioma al nuestro, entonces podremos saber lo que nos quiere decir solo por que poseemos la condición de ser humano, vale decir que esta competencia es una condición que nos permite como hablantes, la capacidad de producir signos verbales y en el estricto significado, es el conocimiento y empleo adecuado del código lingüístico que le permiten al individuo crear, reproducir e interpretar un numero infinito de oraciones.\n",
            " Competencia paralinguistica; esta competencia posee estrecha relación con la anterior y surge de la misma entendiéndose como la capacidad del hablante para utilizar de forma adecuada algunos signos no lingüísticos que se generan de la comunicación propia de las personas, las que expresan actitudes relacionadas con el interlocutor y lo que se dice, estableciendo parámetros como declarar, interrogar, intimidar, ordenar, etc. Conforme a lo oral, este tipo de comunicación se manifiesta empleando signos entonacionales como el tono de la voz, el volumen del sonido emitido, el ritmo, o el énfasis de  lo que se pronuncia.\n",
            " Competencia pragmática; es la que se utiliza en forma estratégica en un medio social determinado, esta establece acciones sociales mediante el empleo adecuado de signos lingüísticos utilizados de acuerdo a intenciones según se pretenda con el acto comunicativo como informar, ordenar, interrogar sugerir, etc. Con esta competencia se desarrolla una situación comunicativa basada en la intención.\n",
            " Competencia textual; esta competencia esta dada por la capacidad de  articular e interpretar signos organizados en un marco coherente, denominado texto, en rigor, se trata del manejo de dispositivos para escribir, como la pluma, el lapicero, la maquina de escribir, el computador y otros.\n",
            " Competencia quinésica; esta se manifiesta como capacidad del que expresa conciente o inconciente de entregar la información a través de signos gestuales, siendo el ejemplo mas claro la mímica que utiliza todo el cuerpo para entregar su comunicación al otro,  ósea expresiones faciales, movimientos  corporales y uso de su entorno físico. Estos signos gestuales pueden ser las expresiones propias y aprendidas, tanto originales como convencionales.\n",
            " Competencia proxemica; esta es manifestada por los hablantes como una capacidad de manejar los espacios y las distancias interpersonales dentro de un marco comunicativo. La distancia entre los interlocutores, la opción de tocarse o estar separados poseen significados que serán de mayor o menor importancia de acuerdo con cada cultura. Surgen así los llamados códigos proxemicos que se establecerán conforme a culturas, relaciones sociales, roles, sexo, edad etc.\n",
            "Competencia cronetica; es la competencia que aborda la problemática del tiempo que nos demoremos en responder o cuanto demoramos en decir algo, ocasionalmente se pueden crear problemas por lo que se dice pero también por el tiempo en generar una respuesta a la comunicación, de aquí que se recomienda considerar tiempos prudentes para generar o procesar la información en función del tiempo del otro vale decir es bueno para las relaciones comunicacionales el ser empático ante él o las personas que nos comunican.\n",
            "Finalmente, se puede señalar que las competencias comunicativas, están fundadas en habilidades y actitudes que llevan al profesional por un camino de autocrítica constructiva y mejora continua, sabiendo, sabiendo hacer, queriendo hacer, ligados a las facetas humanas que son el hacer, el sentir y el pensar. \n",
            "\n",
            "\n",
            "0.0011587142944335938\n"
          ]
        }
      ]
    },
    {
      "cell_type": "code",
      "source": [
        "class DH_Endpoint(object):\n",
        "    def __init__(self, public_key1, public_key2, private_key):\n",
        "        self.public_key1 = public_key1\n",
        "        self.public_key2 = public_key2\n",
        "        self.private_key = private_key\n",
        "        self.full_key = None\n",
        "        \n",
        "    def generate_partial_key(self):\n",
        "        partial_key = self.public_key1**self.private_key\n",
        "        partial_key = partial_key%self.public_key2\n",
        "        return partial_key\n",
        "    \n",
        "    def generate_full_key(self, partial_key_r):\n",
        "        full_key = partial_key_r**self.private_key\n",
        "        full_key = full_key%self.public_key2\n",
        "        self.full_key = full_key\n",
        "        return full_key\n",
        "    \n",
        "    def encrypt_message(self, message):\n",
        "        encrypted_message = \"\"\n",
        "        key = self.full_key\n",
        "        for c in message:\n",
        "            encrypted_message += chr(ord(c)+key)\n",
        "        return encrypted_message\n",
        "    \n",
        "    def decrypt_message(self, encrypted_message):\n",
        "        decrypted_message = \"\"\n",
        "        key = self.full_key\n",
        "        for c in encrypted_message:\n",
        "            decrypted_message += chr(ord(c)-key)\n",
        "        return decrypted_message"
      ],
      "metadata": {
        "id": "5CdDTndsn6Z4"
      },
      "execution_count": 7,
      "outputs": []
    },
    {
      "cell_type": "code",
      "source": [
        "inicio = time.time()\n",
        "\n",
        "message=content\n",
        "s_public=197\n",
        "s_private=199\n",
        "m_public=151\n",
        "m_private=157\n",
        "Sadat = DH_Endpoint(s_public, m_public, s_private)\n",
        "Michael = DH_Endpoint(s_public, m_public, m_private)\n",
        "s_partial=Sadat.generate_partial_key()\n",
        "print(s_partial) \n",
        "m_partial=Michael.generate_partial_key()\n",
        "print(m_partial)\n",
        "s_full=Sadat.generate_full_key(m_partial)\n",
        "print(s_full) \n",
        "m_full=Michael.generate_full_key(s_partial)\n",
        "print(m_full) \n",
        "\n",
        "\n",
        "fin = time.time()\n",
        "print(fin-inicio)"
      ],
      "metadata": {
        "colab": {
          "base_uri": "https://localhost:8080/"
        },
        "id": "PdDNIUxLn8Zk",
        "outputId": "c2288cb2-6b56-4719-f96a-326a8ef30705"
      },
      "execution_count": 8,
      "outputs": [
        {
          "output_type": "stream",
          "name": "stdout",
          "text": [
            "147\n",
            "66\n",
            "75\n",
            "75\n",
            "0.000980377197265625\n"
          ]
        }
      ]
    },
    {
      "cell_type": "code",
      "source": [
        "inicio = time.time()\n",
        "\n",
        "m_encrypted=Michael.encrypt_message(message)\n",
        "print(m_encrypted)\n",
        "\n",
        "fin = time.time()\n",
        "print(fin-inicio)"
      ],
      "metadata": {
        "colab": {
          "base_uri": "https://localhost:8080/"
        },
        "id": "yPGi-yqLoc-e",
        "outputId": "e89b442e-8386-4824-d000-0ebde3e1099e"
      },
      "execution_count": 9,
      "outputs": [
        {
          "output_type": "stream",
          "name": "stdout",
          "text": [
            "kk ¡kkkUk¬k¾º®´°¯¬¯k®º¸ºk®À·¿À½¬wk¿´°¹°k¾Àkº½´²°¹k°¹k·¬k®½°¬®´ľ¹kÄk¯°¾¬½½º··ºk¯°·k·°¹²À¬µ°wk°¹k¾À¾k´¹´®´º¾wk°·k¾°½k³À¸¬¹ºk°½¬kÀ¹¬k°¾»°®´°k¸Ĭ¾k¼À°k»º­·¬­¬k°·k»·¬¹°¿¬yk·k®º¸°¹Å¬½k¬k°Ã»½°¾¬½k¬k¾À¾k¾°¸°µ¬¹¿°¾k¾À¾k´¯°¬¾wk¾°k·º²½¬¹kÁ¬½´º¾k®¬¸­´º¾k¼À°k¾°k¿½¬¹¾±º½¸¬¹k°¹k®À·¿À½¬yUk·k·°¹²À¬µ°k¯¬k±À¹¯¬¸°¹¿º¾k»¬½¬k»º¹°½¹º¾k¯°k¬®À°½¯ºk±º½¿¬·°®´°¹¯ºk°¾¿½¬¿°²´¬¾k¯°kÁ´¯¬k®º¸ºk·¬k½°®º·°®®´ľ¹kÄk·¬k®¬Å¬yk·k¬»¬½°®°½k°·k·°¹²À¬µ°wk¿½¬°k®º¹¾´²ºk·¬k´¯°¬k¯°k°¾¿¬­·°®°½k¿´°¸»º¾k®º¸ºk°·k»¬¾¬¯ºwk»½°¾°¹¿°kÄk±À¿À½ºyk¾¿¬k´¯°¬k¾°k®°¹¿½¬k°¹k·¬k¹°®°¾´¯¬¯k¯°k½°·¬®´º¹¬½k·ºk°Ã´¾¿°¹¿°k®º¸ºkÀ¹k»½°¾°¹¿°kÄk¬·k¹ºk°¾¿¬½wkÁ´°¹°k·¬k´¯°¬k¯°k¿½¬°½·ºk¬·k»½°¾°¹¿°wk¯´®³ºk¯°kº¿½¬k±º½¸¬wk¾°k¯°¾¬½½º··¬k·¬k»º¾´­´·´¯¬¯k¯°k»°¹¾¬½k°¹k·ºk¼À°k¬³º½¬k¹ºk°¾¿¬k»½°¾°¹¿°k»°½ºk°¾¿¬½ĬyUk·k·°¹²À¬µ°k¿½¬°k°¹k±º½¸¬k´¹³°½°¹¿°k¬·k®º¹º®´¸´°¹¿ºk¼À°k³ºÄk°¹k¯ĸ¬k¾°k®º¹®°¹¿½¬k°¹kÁ¬½´¬¯¬¾k¯´¾®´»·´¹¬¾k·¬¾k¼À°k¬k¾ÀkÁ°¾k¾°k®·¬¾´±´®¬¹kÄk®º¯´±´®¬¹k»º½kĬ½°¬¾k¯°k®º¸»°¿°¹®´¬¾wk»°½ºk¹ºk¾°k¿½¬¿¬k¯°k¯°k·¬k®º¸»°¿°¹®´¬k°¹k°·k¾°¹¿´¯ºk¯°k½´Á¬·´¯¬¯wk¾´¹ºwk¼À°k®º¸ºkÀ¹k®º¹µÀ¹¿ºk¯°k¾¬­°½°¾wk³¬­´·´¯¬¯°¾kÄk¬®¿´¿À¯°¾k¼À°k¾°k¬»·´®¬½¬¹k»º½k°·k»½º±°¾´º¹¬·kºk°¹®¬½²¬¯ºk¯°·kĬ½°¬k»¬½¬k½°¾º·Á°½k»½º­·°¸¬¾yUk°k·ºk¬¹¿°¾k¸°¹®´º¹¬¯ºwk¾°k¯°¾¿¬®¬¹k·¬¾k®º¸»°¿°¹®´¬¾wk®ÀÄºk®º¹®°»¿ºk¹º¾k´¹Á´¿¬k¬k®°¹¿½¬½¹º¾k°¹k°·k³¬­·¬¹¿°k®º¸ºkÀ¹k®º¸»º¹°¹¿°k¼À°k·º²½¬k¿¬¹¿ºk»½º¯À®´½k®º¸ºk´¹¿°½»½°¿¬½k°¹k±º½¸¬k®·¬½¬kÄk»½°®´¾¬k·º¾k°¹À¹®´¬¯º¾k¬¯°®À¬¯º¾k¬k·¬k¾´¿À¬®´ľ¹k°¹k¼À°k»¬½¿´®´»¬k¬k·ºk·¬½²ºk¯°k¾ÀkÁ´¯wk°¾k¯°®´½k»½ºÄ°®¿¬½¾°k®º¸ºk®¬»´¿¬·k³À¹ºk¬Á¬¹Å¬¯ºk¾´¹k¯°µ¬½k¬¿½Ĭ¾k°·k®¬¸´¹ºk¯°·k»°½±°®®´º¹¬¸´°¹¿ºk®º¹¿´¹ÀºyUk¹k·¬k±º½¸¬®´ľ¹k»º½k®º¸»°¿°¹®´¬¾k¾°k¯°­°¹k¿°¹°½k°¹k®À°¹¿¬k¿½°¾k¬¾»°®¿º¾k±À¹¯¬¸°¹¿¬·°¾k°·k¾¬­°½wk°·kk¾¬­°½k³¬®°½kÄk°·k¼À°½°½k³¬®°½yk·k»½´¸°½ºk¿´°¹°k½°·¬®´ľ¹k®º¹k¯¬¿º¾wk®º¹®°»¿º¾kÄk»½º®°¾º¾kÁ¬·°k¯°®´½wk°·°¸°¹¿º¾k´¹¿¬¹²´­·°¾wk°·k¾°²À¹¯ºk¯´®°k½°·¬®´ľ¹k¬·k¯º¸´¹´ºk»½¬®¿´®ºk¯°k³°½½¬¸´°¹¿¬¾kÄk°¼À´»º¾k¼À°k»°½¸´¿°¹k°·k¯°¾¬½½º··ºk¯°·k¿½¬­¬µºk®À¬·¼À´°½¬k¼À°k°¾¿°k¾°¬wk°·k¿°½®°½ºk®º¸»°¿°k¬k·¬¾k¬®¿´¿À¯°¾k¼À°k¯°­°k»º¾°°½kÄk¬»·´®¬½k°·k»½º±°¾´º¹¬·k´¯ľ¹°ºk»¬½¬k·¬k½°¾º·À®´ľ¹k¯°k»½º­·°¸¬¾yUk°±·°Ã´º¹¬¯ºk¬®°½®¬k¯°k·¬k®º¸À¹´®¬®´ľ¹wk°¾¿¬k¾°k¯°±´¹°k®º¸ºk°·k»½º®°¾ºk¸°¯´¬¹¿°k°·k®À¬·k·º¾k³À¸¬¹º¾wk²½¬®´¬¾k¬·k·°¹²À¬µ°wk®º¸»¬½¿°¹k´¯°¬¾wk»°¹¾¬¸´°¹¿º¾kÄk¾ĸ¸­º·º¾k®º¹k¾Àk°¾»°®´°wk¾´¹k°··¬wk¾°½´¬k´¸»º¾´­·°k·¬k¬®¿´Á´¯¬¯k³À¸¬¹¬yk°k°¾¿°k¸º¯ºwk·¬k®º¸À¹´®¬®´ľ¹k¾°k³¬®°k±À¹¯¬¸°¹¿¬·k°¹k¿º¯º¾k¾À¾k¹´Á°·°¾wk°¾k¬¾ĸk®º¸ºk¾À½²°¹k¯´¾¿´¹¿º¾k¿´»º¾k¯°k®º¸»°¿°¹®´¬¾yUkº¸»°¿°¹®´¬¾k®º¸À¹´®¬¿´Á¬¾k¾°k¯°¾®½´­°¹k®º¸ºk·¬¾k±º½¸¬¾k¸°¯´¬¹¿°k·¬¾k®À¬·°¾k·¬¾k»°½¾º¹¬¾k»À°¯°¹k°¾¿¬­·°®°½k´¹¿°½½°·¬®´º¹°¾k®º¹kº¿½¬¾kÄk®º¹k°·k¸°¯´ºwk¿º¸¬¹¯ºk®º¸ºk­¬¾°k°·k¬À¿º®º¹º®´¸´°¹¿ºyk¾¿¬¾k®º¸»°¿°¹®´¬¾k¾°k»À°¯°¹kº­¿°¹°½k²½¬®´¬¾k¬k·¬k´¹®À½¾´ľ¹k¯°k·¬¾k»°½¾º¹¬¾k°¹k·¬k®À·¿À½¬k¬k·¬k¼À°k»°½¿°¹°®°¹wkÁ¬·°k¯°®´½k´¹®À½¾´º¹¬½k°¹k°·k¬¸­´°¹¿°k±¬¸´·´¬½wk°¯À®¬®´º¹¬·wk´¹¾¿´¿À®´º¹¬·kÄk¹¬¿À½¬·yUkº¸»°¿°¹®´¬¾k·´¹²Ňĸ¾¿´®¬¾k°¾¿¬k¾°k½°·¬®´º¹¬k®º¹k°·k¯°¾¬½½º··ºk¯°·k·°¹²À¬µ°k»°½ºk¹ºk¾º·ºk¾°k½°±´°½°k¬·k·°¹²À¬µ°k»º½k·ºk¯´®³ºwk¾´¹ºk¼À°k¿¬¸­´Ĵ¹k»º½k·ºk»°¹¾¬¯ºwkľ¾°¬k¾´kÀ¹¬k»°½¾º¹¬k¼À°k³¬­·°kº¿½ºk´¯´º¸¬k¬·k¹À°¾¿½ºwk°¹¿º¹®°¾k»º¯½°¸º¾k¾¬­°½k·ºk¼À°k¹º¾k¼À´°½°k¯°®´½k¾º·ºk»º½k¼À°k»º¾°°¸º¾k·¬k®º¹¯´®´ľ¹k¯°k¾°½k³À¸¬¹ºwkÁ¬·°k¯°®´½k¼À°k°¾¿¬k®º¸»°¿°¹®´¬k°¾kÀ¹¬k®º¹¯´®´ľ¹k¼À°k¹º¾k»°½¸´¿°k®º¸ºk³¬­·¬¹¿°¾wk·¬k®¬»¬®´¯¬¯k¯°k»½º¯À®´½k¾´²¹º¾kÁ°½­¬·°¾kÄk°¹k°·k°¾¿½´®¿ºk¾´²¹´±´®¬¯ºwk°¾k°·k®º¹º®´¸´°¹¿ºkÄk°¸»·°ºk¬¯°®À¬¯ºk¯°·k®ľ¯´²ºk·´¹²Ňĸ¾¿´®ºk¼À°k·°k»°½¸´¿°¹k¬·k´¹¯´Á´¯Àºk®½°¬½wk½°»½º¯À®´½k°k´¹¿°½»½°¿¬½kÀ¹k¹À¸°½ºk´¹±´¹´¿ºk¯°kº½¬®´º¹°¾yUkº¸»°¿°¹®´¬k»¬½¬·´¹²À´¾¿´®¬k°¾¿¬k®º¸»°¿°¹®´¬k»º¾°°k°¾¿½°®³¬k½°·¬®´ľ¹k®º¹k·¬k¬¹¿°½´º½kÄk¾À½²°k¯°k·¬k¸´¾¸¬k°¹¿°¹¯´Ĵ¹¯º¾°k®º¸ºk·¬k®¬»¬®´¯¬¯k¯°·k³¬­·¬¹¿°k»¬½¬kÀ¿´·´Å¬½k¯°k±º½¸¬k¬¯°®À¬¯¬k¬·²À¹º¾k¾´²¹º¾k¹ºk·´¹²Ňĸ¾¿´®º¾k¼À°k¾°k²°¹°½¬¹k¯°k·¬k®º¸À¹´®¬®´ľ¹k»½º»´¬k¯°k·¬¾k»°½¾º¹¬¾wk·¬¾k¼À°k°Ã»½°¾¬¹k¬®¿´¿À¯°¾k½°·¬®´º¹¬¯¬¾k®º¹k°·k´¹¿°½·º®À¿º½kÄk·ºk¼À°k¾°k¯´®°wk°¾¿¬­·°®´°¹¯ºk»¬½Ĭ¸°¿½º¾k®º¸ºk¯°®·¬½¬½wk´¹¿°½½º²¬½wk´¹¿´¸´¯¬½wkº½¯°¹¬½wk°¿®ykº¹±º½¸°k¬k·ºkº½¬·wk°¾¿°k¿´»ºk¯°k®º¸À¹´®¬®´ľ¹k¾°k¸¬¹´±´°¾¿¬k°¸»·°¬¹¯ºk¾´²¹º¾k°¹¿º¹¬®´º¹¬·°¾k®º¸ºk°·k¿º¹ºk¯°k·¬kÁºÅwk°·kÁº·À¸°¹k¯°·k¾º¹´¯ºk°¸´¿´¯ºwk°·k½´¿¸ºwkºk°·kĴ¹±¬¾´¾k¯°kk·ºk¼À°k¾°k»½º¹À¹®´¬yUkº¸»°¿°¹®´¬k»½¬²¸Ĭ¿´®¬k°¾k·¬k¼À°k¾°kÀ¿´·´Å¬k°¹k±º½¸¬k°¾¿½¬¿Ĵ²´®¬k°¹kÀ¹k¸°¯´ºk¾º®´¬·k¯°¿°½¸´¹¬¯ºwk°¾¿¬k°¾¿¬­·°®°k¬®®´º¹°¾k¾º®´¬·°¾k¸°¯´¬¹¿°k°·k°¸»·°ºk¬¯°®À¬¯ºk¯°k¾´²¹º¾k·´¹²Ňĸ¾¿´®º¾kÀ¿´·´Å¬¯º¾k¯°k¬®À°½¯ºk¬k´¹¿°¹®´º¹°¾k¾°²Ņ¹k¾°k»½°¿°¹¯¬k®º¹k°·k¬®¿ºk®º¸À¹´®¬¿´Áºk®º¸ºk´¹±º½¸¬½wkº½¯°¹¬½wk´¹¿°½½º²¬½k¾À²°½´½wk°¿®ykº¹k°¾¿¬k®º¸»°¿°¹®´¬k¾°k¯°¾¬½½º··¬kÀ¹¬k¾´¿À¬®´ľ¹k®º¸À¹´®¬¿´Á¬k­¬¾¬¯¬k°¹k·¬k´¹¿°¹®´ľ¹yUkº¸»°¿°¹®´¬k¿°Ã¿À¬·k°¾¿¬k®º¸»°¿°¹®´¬k°¾¿¬k¯¬¯¬k»º½k·¬k®¬»¬®´¯¬¯k¯°kk¬½¿´®À·¬½k°k´¹¿°½»½°¿¬½k¾´²¹º¾kº½²¬¹´Å¬¯º¾k°¹kÀ¹k¸¬½®ºk®º³°½°¹¿°wk¯°¹º¸´¹¬¯ºk¿°Ã¿ºwk°¹k½´²º½wk¾°k¿½¬¿¬k¯°·k¸¬¹°µºk¯°k¯´¾»º¾´¿´Áº¾k»¬½¬k°¾®½´­´½wk®º¸ºk·¬k»·À¸¬wk°·k·¬»´®°½ºwk·¬k¸¬¼À´¹¬k¯°k°¾®½´­´½wk°·k®º¸»À¿¬¯º½kÄkº¿½º¾yUkº¸»°¿°¹®´¬k¼À´¹Ĵ¾´®¬k°¾¿¬k¾°k¸¬¹´±´°¾¿¬k®º¸ºk®¬»¬®´¯¬¯k¯°·k¼À°k°Ã»½°¾¬k®º¹®´°¹¿°kºk´¹®º¹®´°¹¿°k¯°k°¹¿½°²¬½k·¬k´¹±º½¸¬®´ľ¹k¬k¿½¬ÁĴ¾k¯°k¾´²¹º¾k²°¾¿À¬·°¾wk¾´°¹¯ºk°·k°µ°¸»·ºk¸¬¾k®·¬½ºk·¬k¸ĸ¸´®¬k¼À°kÀ¿´·´Å¬k¿º¯ºk°·k®À°½»ºk»¬½¬k°¹¿½°²¬½k¾Àk®º¸À¹´®¬®´ľ¹k¬·kº¿½ºwkkľ¾°¬k°Ã»½°¾´º¹°¾k±¬®´¬·°¾wk¸ºÁ´¸´°¹¿º¾kk®º½»º½¬·°¾kÄkÀ¾ºk¯°k¾Àk°¹¿º½¹ºk±ĸ¾´®ºyk¾¿º¾k¾´²¹º¾k²°¾¿À¬·°¾k»À°¯°¹k¾°½k·¬¾k°Ã»½°¾´º¹°¾k»½º»´¬¾kÄk¬»½°¹¯´¯¬¾wk¿¬¹¿ºkº½´²´¹¬·°¾k®º¸ºk®º¹Á°¹®´º¹¬·°¾yUkº¸»°¿°¹®´¬k»½ºÃ°¸´®¬k°¾¿¬k°¾k¸¬¹´±°¾¿¬¯¬k»º½k·º¾k³¬­·¬¹¿°¾k®º¸ºkÀ¹¬k®¬»¬®´¯¬¯k¯°k¸¬¹°µ¬½k·º¾k°¾»¬®´º¾kÄk·¬¾k¯´¾¿¬¹®´¬¾k´¹¿°½»°½¾º¹¬·°¾k¯°¹¿½ºk¯°kÀ¹k¸¬½®ºk®º¸À¹´®¬¿´Áºyk¬k¯´¾¿¬¹®´¬k°¹¿½°k·º¾k´¹¿°½·º®À¿º½°¾wk·¬kº»®´ľ¹k¯°k¿º®¬½¾°kºk°¾¿¬½k¾°»¬½¬¯º¾k»º¾°°¹k¾´²¹´±´®¬¯º¾k¼À°k¾°½Ĭ¹k¯°k¸¬Äº½kºk¸°¹º½k´¸»º½¿¬¹®´¬k¯°k¬®À°½¯ºk®º¹k®¬¯¬k®À·¿À½¬ykÀ½²°¹k¬¾ĸk·º¾k··¬¸¬¯º¾k®ľ¯´²º¾k»½ºÃ°¸´®º¾k¼À°k¾°k°¾¿¬­·°®°½Ĭ¹k®º¹±º½¸°k¬k®À·¿À½¬¾wk½°·¬®´º¹°¾k¾º®´¬·°¾wk½º·°¾wk¾°Ãºwk°¯¬¯k°¿®yUº¸»°¿°¹®´¬k®½º¹°¿´®¬k°¾k·¬k®º¸»°¿°¹®´¬k¼À°k¬­º½¯¬k·¬k»½º­·°¸Ĭ¿´®¬k¯°·k¿´°¸»ºk¼À°k¹º¾k¯°¸º½°¸º¾k°¹k½°¾»º¹¯°½kºk®À¬¹¿ºk¯°¸º½¬¸º¾k°¹k¯°®´½k¬·²ºwkº®¬¾´º¹¬·¸°¹¿°k¾°k»À°¯°¹k®½°¬½k»½º­·°¸¬¾k»º½k·ºk¼À°k¾°k¯´®°k»°½ºk¿¬¸­´Ĵ¹k»º½k°·k¿´°¸»ºk°¹k²°¹°½¬½kÀ¹¬k½°¾»À°¾¿¬k¬k·¬k®º¸À¹´®¬®´ľ¹wk¯°k¬¼Àĸk¼À°k¾°k½°®º¸´°¹¯¬k®º¹¾´¯°½¬½k¿´°¸»º¾k»½À¯°¹¿°¾k»¬½¬k²°¹°½¬½kºk»½º®°¾¬½k·¬k´¹±º½¸¬®´ľ¹k°¹k±À¹®´ľ¹k¯°·k¿´°¸»ºk¯°·kº¿½ºkÁ¬·°k¯°®´½k°¾k­À°¹ºk»¬½¬k·¬¾k½°·¬®´º¹°¾k®º¸À¹´®¬®´º¹¬·°¾k°·k¾°½k°¸»Ĭ¿´®ºk¬¹¿°kĴ·kºk·¬¾k»°½¾º¹¬¾k¼À°k¹º¾k®º¸À¹´®¬¹yU´¹¬·¸°¹¿°wk¾°k»À°¯°k¾°ļ¬·¬½k¼À°k·¬¾k®º¸»°¿°¹®´¬¾k®º¸À¹´®¬¿´Á¬¾wk°¾¿Ĭ¹k±À¹¯¬¯¬¾k°¹k³¬­´·´¯¬¯°¾kÄk¬®¿´¿À¯°¾k¼À°k··°Á¬¹k¬·k»½º±°¾´º¹¬·k»º½kÀ¹k®¬¸´¹ºk¯°k¬À¿º®½ĸ¿´®¬k®º¹¾¿½À®¿´Á¬kÄk¸°µº½¬k®º¹¿´¹À¬wk¾¬­´°¹¯ºwk¾¬­´°¹¯ºk³¬®°½wk¼À°½´°¹¯ºk³¬®°½wk·´²¬¯º¾k¬k·¬¾k±¬®°¿¬¾k³À¸¬¹¬¾k¼À°k¾º¹k°·k³¬®°½wk°·k¾°¹¿´½kÄk°·k»°¹¾¬½ykUU\n",
            "0.006038665771484375\n"
          ]
        }
      ]
    },
    {
      "cell_type": "code",
      "source": [
        "inicio = time.time()\n",
        "\n",
        "message = Sadat.decrypt_message(m_encrypted)\n",
        "print(message) \n",
        "\n",
        "fin = time.time()\n",
        "print(fin-inicio)"
      ],
      "metadata": {
        "colab": {
          "base_uri": "https://localhost:8080/"
        },
        "id": "JLIMZRQPs7gr",
        "outputId": "886558fb-2a4c-4e99-df12-837ec1765a7a"
      },
      "execution_count": 10,
      "outputs": [
        {
          "output_type": "stream",
          "name": "stdout",
          "text": [
            "LAS COMPETENCIAS COMUNICATIVAS EN LA SOCIEDAD\n",
            " La sociedad como cultura, tiene su origen en la creación y desarrollo del lenguaje, en sus inicios, el ser humano era una especie más que poblaba el planeta. Al comenzar a expresar a sus semejantes sus ideas, se logran varios cambios que se transforman en cultura.\n",
            " El lenguaje da fundamentos para ponernos de acuerdo fortaleciendo estrategias de vida como la recolección y la caza. Al aparecer el lenguaje, trae consigo la idea de establecer tiempos como el pasado, presente y futuro. Esta idea se centra en la necesidad de relacionar lo existente como un presente y al no estar, viene la idea de traerlo al presente, dicho de otra forma, se desarrolla la posibilidad de pensar en lo que ahora no esta presente pero estará.\n",
            " El lenguaje trae en forma inherente al conocimiento que hoy en día se concentra en variadas disciplinas las que a su ves se clasifican y codifican por áreas de competencias, pero no se trata de de la competencia en el sentido de rivalidad, sino, que como un conjunto de saberes, habilidades y actitudes que se aplicaran por el profesional o encargado del área para resolver problemas.\n",
            " De lo antes mencionado, se destacan las competencias, cuyo concepto nos invita a centrarnos en el hablante como un componente que logra tanto producir como interpretar en forma clara y precisa los enunciados adecuados a la situación en que participa a lo largo de su vid, es decir proyectarse como capital huno avanzado sin dejar atrás el camino del perfeccionamiento continuo.\n",
            " En la formación por competencias se deben tener en cuenta tres aspectos fundamentales; el saber, el  saber hacer y el querer hacer. El primero tiene relación con datos, conceptos y procesos vale decir, elementos intangibles, el segundo dice relación al dominio practico de herramientas y equipos que permiten el desarrollo del trabajo cualquiera que este sea, el tercero compete a las actitudes que debe poseer y aplicar el profesional idóneo para la resolución de problemas.\n",
            " Reflexionado acerca de la comunicación, esta se define como el proceso mediante el cual los humanos, gracias al lenguaje, comparten ideas, pensamientos y símbolos con su especie, sin ella, seria imposible la actividad humana. De este modo, la comunicación se hace fundamental en todos sus niveles, es así como surgen distintos tipos de competencias.\n",
            " Competencias comunicativas; se describen como las formas mediante las cuales las personas pueden establecer interrelaciones con otras y con el medio, tomando como base el autoconocimiento. Estas competencias se pueden obtener gracias a la incursión de las personas en la cultura a la que pertenecen, vale decir incursionar en el ambiente familiar, educacional, institucional y natural.\n",
            " Competencias lingüísticas; esta se relaciona con el desarrollo del lenguaje pero no solo se refiere al lenguaje por lo dicho, sino que también por lo pensado, ósea si una persona que hable otro idioma al nuestro, entonces podremos saber lo que nos quiere decir solo por que poseemos la condición de ser humano, vale decir que esta competencia es una condición que nos permite como hablantes, la capacidad de producir signos verbales y en el estricto significado, es el conocimiento y empleo adecuado del código lingüístico que le permiten al individuo crear, reproducir e interpretar un numero infinito de oraciones.\n",
            " Competencia paralinguistica; esta competencia posee estrecha relación con la anterior y surge de la misma entendiéndose como la capacidad del hablante para utilizar de forma adecuada algunos signos no lingüísticos que se generan de la comunicación propia de las personas, las que expresan actitudes relacionadas con el interlocutor y lo que se dice, estableciendo parámetros como declarar, interrogar, intimidar, ordenar, etc. Conforme a lo oral, este tipo de comunicación se manifiesta empleando signos entonacionales como el tono de la voz, el volumen del sonido emitido, el ritmo, o el énfasis de  lo que se pronuncia.\n",
            " Competencia pragmática; es la que se utiliza en forma estratégica en un medio social determinado, esta establece acciones sociales mediante el empleo adecuado de signos lingüísticos utilizados de acuerdo a intenciones según se pretenda con el acto comunicativo como informar, ordenar, interrogar sugerir, etc. Con esta competencia se desarrolla una situación comunicativa basada en la intención.\n",
            " Competencia textual; esta competencia esta dada por la capacidad de  articular e interpretar signos organizados en un marco coherente, denominado texto, en rigor, se trata del manejo de dispositivos para escribir, como la pluma, el lapicero, la maquina de escribir, el computador y otros.\n",
            " Competencia quinésica; esta se manifiesta como capacidad del que expresa conciente o inconciente de entregar la información a través de signos gestuales, siendo el ejemplo mas claro la mímica que utiliza todo el cuerpo para entregar su comunicación al otro,  ósea expresiones faciales, movimientos  corporales y uso de su entorno físico. Estos signos gestuales pueden ser las expresiones propias y aprendidas, tanto originales como convencionales.\n",
            " Competencia proxemica; esta es manifestada por los hablantes como una capacidad de manejar los espacios y las distancias interpersonales dentro de un marco comunicativo. La distancia entre los interlocutores, la opción de tocarse o estar separados poseen significados que serán de mayor o menor importancia de acuerdo con cada cultura. Surgen así los llamados códigos proxemicos que se establecerán conforme a culturas, relaciones sociales, roles, sexo, edad etc.\n",
            "Competencia cronetica; es la competencia que aborda la problemática del tiempo que nos demoremos en responder o cuanto demoramos en decir algo, ocasionalmente se pueden crear problemas por lo que se dice pero también por el tiempo en generar una respuesta a la comunicación, de aquí que se recomienda considerar tiempos prudentes para generar o procesar la información en función del tiempo del otro vale decir es bueno para las relaciones comunicacionales el ser empático ante él o las personas que nos comunican.\n",
            "Finalmente, se puede señalar que las competencias comunicativas, están fundadas en habilidades y actitudes que llevan al profesional por un camino de autocrítica constructiva y mejora continua, sabiendo, sabiendo hacer, queriendo hacer, ligados a las facetas humanas que son el hacer, el sentir y el pensar. \n",
            "\n",
            "\n",
            "0.0058939456939697266\n"
          ]
        }
      ]
    }
  ]
}